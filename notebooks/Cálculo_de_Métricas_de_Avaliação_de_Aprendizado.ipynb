{
  "nbformat": 4,
  "nbformat_minor": 0,
  "metadata": {
    "colab": {
      "provenance": [],
      "authorship_tag": "ABX9TyOOI3hcT/mAWcIxtW7nfigt",
      "include_colab_link": true
    },
    "kernelspec": {
      "name": "python3",
      "display_name": "Python 3"
    },
    "language_info": {
      "name": "python"
    }
  },
  "cells": [
    {
      "cell_type": "markdown",
      "metadata": {
        "id": "view-in-github",
        "colab_type": "text"
      },
      "source": [
        "<a href=\"https://colab.research.google.com/github/andrcvs/dio-lab-open-source/blob/main/notebooks/C%C3%A1lculo_de_M%C3%A9tricas_de_Avalia%C3%A7%C3%A3o_de_Aprendizado.ipynb\" target=\"_parent\"><img src=\"https://colab.research.google.com/assets/colab-badge.svg\" alt=\"Open In Colab\"/></a>"
      ]
    },
    {
      "cell_type": "markdown",
      "metadata": {
        "id": "8025464a"
      },
      "source": [
        "# Tarefa\n",
        "Calcular as métricas de avaliação de modelos de classificação (acurácia, sensibilidade, especificidade, precisão e F-score) utilizando uma matriz de confusão arbitrária e as fórmulas correspondentes."
      ]
    },
    {
      "cell_type": "markdown",
      "metadata": {
        "id": "344db099"
      },
      "source": [
        "## Criar uma matriz de confusão\n",
        "\n",
        "### Subtask:\n",
        "Definir os valores para Verdadeiros Positivos (VP), Verdadeiros Negativos (VN), Falsos Positivos (FP) e Falsos Negativos (FN).\n"
      ]
    },
    {
      "cell_type": "code",
      "metadata": {
        "colab": {
          "base_uri": "https://localhost:8080/"
        },
        "id": "2acef2ce",
        "outputId": "194e0118-c234-4489-8c5a-bb5a8717e703"
      },
      "source": [
        "import numpy as np\n",
        "\n",
        "# Gerar uma matriz de confusão arbitrária 10x10\n",
        "# Esta matriz representa um cenário de classificação multiclasse\n",
        "matriz_confusao_multiclasse = np.random.randint(0, 50, size=(10, 10))\n",
        "\n",
        "print(\"Matriz de Confusão Multiclasse Gerada:\")\n",
        "print(matriz_confusao_multiclasse)\n",
        "\n",
        "# Para calcular as métricas de classificação binária (acurácia, sensibilidade, etc.)\n",
        "# precisamos de uma matriz 2x2 (VP, VN, FP, FN).\n",
        "# Vamos simular a extração para uma classe específica (por exemplo, a primeira classe, índice 0)\n",
        "# onde a classe positiva é a classe 0 e a classe negativa são todas as outras.\n",
        "\n",
        "# Verdadeiros Positivos (VP): Elementos da diagonal principal para a classe 0\n",
        "vp = matriz_confusao_multiclasse[0, 0]\n",
        "\n",
        "# Falsos Negativos (FN): Soma dos elementos na linha da classe 0, exceto o VP\n",
        "fn = np.sum(matriz_confusao_multiclasse[0, :]) - vp\n",
        "\n",
        "# Falsos Positivos (FP): Soma dos elementos na coluna da classe 0, exceto o VP\n",
        "fp = np.sum(matriz_confusao_multiclasse[:, 0]) - vp\n",
        "\n",
        "# Verdadeiros Negativos (VN): Soma de todos os elementos, menos VP, FN e FP\n",
        "total_elementos = np.sum(matriz_confusao_multiclasse)\n",
        "vn = total_elementos - vp - fn - fp\n",
        "\n",
        "\n",
        "print(f\"\\nValores Extraídos (simulando classificação binária para a classe 0):\")\n",
        "print(f\"VP: {vp}\")\n",
        "print(f\"VN: {vn}\")\n",
        "print(f\"FP: {fp}\")\n",
        "print(f\"FN: {fn}\")"
      ],
      "execution_count": 31,
      "outputs": [
        {
          "output_type": "stream",
          "name": "stdout",
          "text": [
            "Matriz de Confusão Multiclasse Gerada:\n",
            "[[47 11 21 27 26  4 35 31 31 16]\n",
            " [42 22 31 25 22 28 32 18 13 17]\n",
            " [10 43 28  1 17 45 13 10  3 15]\n",
            " [21 14 10 25 46 26 30 10 15 46]\n",
            " [20  5 38 27 38 23 49 20 45 46]\n",
            " [ 3  9 24 34 38 48 13 24 45  3]\n",
            " [27 43  6 42  3 33 13 44 37 31]\n",
            " [33 19 16 17 27 47  4  5 29 45]\n",
            " [ 3 45 37 13  5 38 34 29  3  9]\n",
            " [34  0 46 41 33  4 39 27 18 20]]\n",
            "\n",
            "Valores Extraídos (simulando classificação binária para a classe 0):\n",
            "VP: 47\n",
            "VN: 2036\n",
            "FP: 193\n",
            "FN: 202\n"
          ]
        }
      ]
    },
    {
      "cell_type": "markdown",
      "metadata": {
        "id": "59129b3e"
      },
      "source": [
        "## Implementar funções para as métricas\n",
        "\n",
        "### Subtask:\n",
        "Criar funções em Python para calcular acurácia, sensibilidade (recall), especificidade, precisão e F-score com base nas fórmulas fornecidas na descrição da tarefa (que são as fórmulas padrão para essas métricas).\n"
      ]
    },
    {
      "cell_type": "code",
      "metadata": {
        "id": "a1429d21"
      },
      "source": [
        "def calcular_acuracia(vp, vn, fp, fn):\n",
        "  \"Calcula a acurácia.\"\n",
        "  total = vp + vn + fp + fn\n",
        "  if total == 0:\n",
        "    return 0.0  # Evitar divisão por zero\n",
        "  return (vp + vn) / total\n",
        "\n",
        "def calcular_sensibilidade(vp, fn):\n",
        "  \"Calcula a sensibilidade (recall).\"\n",
        "  denominador = vp + fn\n",
        "  if denominador == 0:\n",
        "    return 0.0  # Evitar divisão por zero\n",
        "  return vp / denominador\n",
        "\n",
        "def calcular_especificidade(vn, fp):\n",
        "  \"Calcula a especificidade.\"\n",
        "  denominador = vn + fp\n",
        "  if denominador == 0:\n",
        "    return 0.0  # Evitar divisão por zero\n",
        "  return vn / denominador\n",
        "\n",
        "def calcular_precisao(vp, fp):\n",
        "  \"Calcula a precisão.\"\n",
        "  denominador = vp + fp\n",
        "  if denominador == 0:\n",
        "    return 0.0  # Evitar divisão por zero\n",
        "  return vp / denominador\n",
        "\n",
        "def calcular_fscore(precisao, sensibilidade):\n",
        "  \"Calcula o F-score.\"\n",
        "  denominador = precisao + sensibilidade\n",
        "  if denominador == 0:\n",
        "    return 0.0  # Evitar divisão por zero\n",
        "  return 2 * (precisao * sensibilidade) / denominador"
      ],
      "execution_count": 32,
      "outputs": []
    },
    {
      "cell_type": "markdown",
      "metadata": {
        "id": "111883e4"
      },
      "source": [
        "## Calcular as métricas\n",
        "\n",
        "### Subtask:\n",
        "Usar os valores definidos na matriz de confusão e as funções implementadas para calcular cada métrica.\n"
      ]
    },
    {
      "cell_type": "code",
      "metadata": {
        "id": "4ec12dcd"
      },
      "source": [
        "acuracia = calcular_acuracia(vp, vn, fp, fn)\n",
        "sensibilidade = calcular_sensibilidade(vp, fn)\n",
        "especificidade = calcular_especificidade(vn, fp)\n",
        "precisao = calcular_precisao(vp, fp)\n",
        "fscore = calcular_fscore(precisao, sensibilidade)"
      ],
      "execution_count": 33,
      "outputs": []
    },
    {
      "cell_type": "markdown",
      "metadata": {
        "id": "3c10a53b"
      },
      "source": [
        "## Exibir os resultados\n",
        "\n",
        "### Subtask:\n",
        "Apresentar as métricas calculadas em um formato claro e legível.\n"
      ]
    },
    {
      "cell_type": "code",
      "metadata": {
        "colab": {
          "base_uri": "https://localhost:8080/"
        },
        "id": "25062f2f",
        "outputId": "d0065199-791c-43d0-cd89-ff9d9597cc68"
      },
      "source": [
        "print(f\"Acurácia: {acuracia}\")\n",
        "print(f\"Sensibilidade: {sensibilidade}\")\n",
        "print(f\"Especificidade: {especificidade}\")\n",
        "print(f\"Precisão: {precisao}\")\n",
        "print(f\"F-score: {fscore}\")"
      ],
      "execution_count": 34,
      "outputs": [
        {
          "output_type": "stream",
          "name": "stdout",
          "text": [
            "Acurácia: 0.8405972558514931\n",
            "Sensibilidade: 0.18875502008032127\n",
            "Especificidade: 0.9134140870345446\n",
            "Precisão: 0.19583333333333333\n",
            "F-score: 0.19222903885480572\n"
          ]
        }
      ]
    }
  ]
}