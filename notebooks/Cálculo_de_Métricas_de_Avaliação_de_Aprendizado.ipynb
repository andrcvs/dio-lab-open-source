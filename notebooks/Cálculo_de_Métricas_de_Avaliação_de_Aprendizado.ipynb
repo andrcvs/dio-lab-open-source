{
  "nbformat": 4,
  "nbformat_minor": 0,
  "metadata": {
    "colab": {
      "provenance": [],
      "authorship_tag": "ABX9TyM7Jq6L7cFwDXtspPBrFHUM",
      "include_colab_link": true
    },
    "kernelspec": {
      "name": "python3",
      "display_name": "Python 3"
    },
    "language_info": {
      "name": "python"
    }
  },
  "cells": [
    {
      "cell_type": "markdown",
      "metadata": {
        "id": "view-in-github",
        "colab_type": "text"
      },
      "source": [
        "<a href=\"https://colab.research.google.com/github/andrcvs/dio-lab-open-source/blob/main/notebooks/C%C3%A1lculo_de_M%C3%A9tricas_de_Avalia%C3%A7%C3%A3o_de_Aprendizado.ipynb\" target=\"_parent\"><img src=\"https://colab.research.google.com/assets/colab-badge.svg\" alt=\"Open In Colab\"/></a>"
      ]
    },
    {
      "cell_type": "markdown",
      "metadata": {
        "id": "8025464a"
      },
      "source": [
        "# Tarefa\n",
        "Calcular as métricas de avaliação de modelos de classificação (acurácia, sensibilidade, especificidade, precisão e F-score) utilizando uma matriz de confusão arbitrária e as fórmulas correspondentes."
      ]
    },
    {
      "cell_type": "markdown",
      "metadata": {
        "id": "344db099"
      },
      "source": [
        "## Criar uma matriz de confusão\n",
        "\n",
        "### Subtask:\n",
        "Definir os valores para Verdadeiros Positivos (VP), Verdadeiros Negativos (VN), Falsos Positivos (FP) e Falsos Negativos (FN).\n"
      ]
    },
    {
      "cell_type": "code",
      "metadata": {
        "id": "2acef2ce"
      },
      "source": [
        "# Definir os valores para os componentes da matriz de confusão\n",
        "vp = 100  # Verdadeiros Positivos\n",
        "vn = 50   # Verdadeiros Negativos\n",
        "fp = 10   # Falsos Positivos\n",
        "fn = 5    # Falsos Negativos"
      ],
      "execution_count": 8,
      "outputs": []
    },
    {
      "cell_type": "markdown",
      "metadata": {
        "id": "59129b3e"
      },
      "source": [
        "## Implementar funções para as métricas\n",
        "\n",
        "### Subtask:\n",
        "Criar funções em Python para calcular acurácia, sensibilidade (recall), especificidade, precisão e F-score com base nas fórmulas fornecidas na descrição da tarefa (que são as fórmulas padrão para essas métricas).\n"
      ]
    },
    {
      "cell_type": "code",
      "metadata": {
        "id": "a1429d21"
      },
      "source": [
        "def calcular_acuracia(vp, vn, fp, fn):\n",
        "  \"Calcula a acurácia.\"\n",
        "  total = vp + vn + fp + fn\n",
        "  if total == 0:\n",
        "    return 0.0  # Evitar divisão por zero\n",
        "  return (vp + vn) / total\n",
        "\n",
        "def calcular_sensibilidade(vp, fn):\n",
        "  \"Calcula a sensibilidade (recall).\"\n",
        "  denominador = vp + fn\n",
        "  if denominador == 0:\n",
        "    return 0.0  # Evitar divisão por zero\n",
        "  return vp / denominador\n",
        "\n",
        "def calcular_especificidade(vn, fp):\n",
        "  \"Calcula a especificidade.\"\n",
        "  denominador = vn + fp\n",
        "  if denominador == 0:\n",
        "    return 0.0  # Evitar divisão por zero\n",
        "  return vn / denominador\n",
        "\n",
        "def calcular_precisao(vp, fp):\n",
        "  \"Calcula a precisão.\"\n",
        "  denominador = vp + fp\n",
        "  if denominador == 0:\n",
        "    return 0.0  # Evitar divisão por zero\n",
        "  return vp / denominador\n",
        "\n",
        "def calcular_fscore(precisao, sensibilidade):\n",
        "  \"Calcula o F-score.\"\n",
        "  denominador = precisao + sensibilidade\n",
        "  if denominador == 0:\n",
        "    return 0.0  # Evitar divisão por zero\n",
        "  return 2 * (precisao * sensibilidade) / denominador"
      ],
      "execution_count": 9,
      "outputs": []
    },
    {
      "cell_type": "markdown",
      "metadata": {
        "id": "111883e4"
      },
      "source": [
        "## Calcular as métricas\n",
        "\n",
        "### Subtask:\n",
        "Usar os valores definidos na matriz de confusão e as funções implementadas para calcular cada métrica.\n"
      ]
    },
    {
      "cell_type": "code",
      "metadata": {
        "id": "4ec12dcd"
      },
      "source": [
        "acuracia = calcular_acuracia(vp, vn, fp, fn)\n",
        "sensibilidade = calcular_sensibilidade(vp, fn)\n",
        "especificidade = calcular_especificidade(vn, fp)\n",
        "precisao = calcular_precisao(vp, fp)\n",
        "fscore = calcular_fscore(precisao, sensibilidade)"
      ],
      "execution_count": 10,
      "outputs": []
    },
    {
      "cell_type": "markdown",
      "metadata": {
        "id": "3c10a53b"
      },
      "source": [
        "## Exibir os resultados\n",
        "\n",
        "### Subtask:\n",
        "Apresentar as métricas calculadas em um formato claro e legível.\n"
      ]
    },
    {
      "cell_type": "code",
      "metadata": {
        "colab": {
          "base_uri": "https://localhost:8080/"
        },
        "id": "25062f2f",
        "outputId": "af694fb0-2528-4df6-94d4-5dd088bc5335"
      },
      "source": [
        "print(f\"Accuracy: {accuracy}\")\n",
        "print(f\"Sensitivity: {sensitivity}\")\n",
        "print(f\"Specificity: {specificity}\")\n",
        "print(f\"Precision: {precision}\")\n",
        "print(f\"F-score: {fscore}\")"
      ],
      "execution_count": 11,
      "outputs": [
        {
          "output_type": "stream",
          "name": "stdout",
          "text": [
            "Accuracy: 0.9090909090909091\n",
            "Sensitivity: 0.9523809523809523\n",
            "Specificity: 0.8333333333333334\n",
            "Precision: 0.9090909090909091\n",
            "F-score: 0.9302325581395349\n"
          ]
        }
      ]
    }
  ]
}